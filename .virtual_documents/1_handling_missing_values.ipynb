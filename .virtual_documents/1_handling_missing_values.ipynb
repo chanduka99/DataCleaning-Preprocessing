


# modules we'll use
import pandas as pd
import numpy as np

# read in all our data
sf_permits = pd.read_csv("./Building_Permits.csv")

# set seed for reproducibility
np.random.seed(0)



